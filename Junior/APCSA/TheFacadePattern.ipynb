{
 "cells": [
  {
   "cell_type": "markdown",
   "metadata": {},
   "source": [
    "# The Facade Pattern\n",
    "## Under a mountain of fog, in front of a mirror\n",
    "\n",
    "Take in this home theater setup for a moment.\n",
    "Here, we have our `Projector`:"
   ]
  },
  {
   "cell_type": "code",
   "execution_count": null,
   "metadata": {
    "dotnet_interactive": {
     "language": "csharp"
    }
   },
   "outputs": [],
   "source": [
    "class Projector\n",
    "{\n",
    "    public void TurnOn()\n",
    "        => Console.WriteLine($\"Projector on!\");\n",
    "    public void TurnOff()\n",
    "        => Console.WriteLine($\"Projector off!\");\n",
    "}"
   ]
  },
  {
   "cell_type": "markdown",
   "metadata": {},
   "source": [
    "And our `MediaServer`:"
   ]
  },
  {
   "cell_type": "code",
   "execution_count": null,
   "metadata": {
    "dotnet_interactive": {
     "language": "csharp"
    }
   },
   "outputs": [],
   "source": [
    "class MediaServer\n",
    "{\n",
    "    public void PlayMovie(string movieName)\n",
    "        => Console.WriteLine($\"Now playing: {movieName}\");\n",
    "    public void Stop()\n",
    "        => Console.WriteLine($\"Stopping movie\");\n",
    "}"
   ]
  },
  {
   "cell_type": "markdown",
   "metadata": {},
   "source": [
    "Wow, a `PopcornMachine`!"
   ]
  },
  {
   "cell_type": "code",
   "execution_count": null,
   "metadata": {
    "dotnet_interactive": {
     "language": "csharp"
    }
   },
   "outputs": [],
   "source": [
    "class PopcornMachine\n",
    "{\n",
    "    public void MakePopcorn() \n",
    "        => Console.WriteLine($\"Popcorn is poppin'!\");\n",
    "    public void StopMakingPopcorn()\n",
    "        => Console.WriteLine($\"We had enough popcorn!\");\n",
    "}"
   ]
  },
  {
   "cell_type": "markdown",
   "metadata": {},
   "source": [
    "Can't forget the `Screen` for the projector!"
   ]
  },
  {
   "cell_type": "code",
   "execution_count": null,
   "metadata": {
    "dotnet_interactive": {
     "language": "csharp"
    }
   },
   "outputs": [],
   "source": [
    "class Screen\n",
    "{\n",
    "    public void PullDown()\n",
    "        => Console.WriteLine($\"Screen is down!\");\n",
    "    public void PullUp()\n",
    "        => Console.WriteLine($\"Screen is down!\");\n",
    "}"
   ]
  },
  {
   "cell_type": "markdown",
   "metadata": {},
   "source": [
    "It ain't the 1920s! Movies have sound! We need a `SpeakerSet`!"
   ]
  },
  {
   "cell_type": "code",
   "execution_count": null,
   "metadata": {
    "dotnet_interactive": {
     "language": "csharp"
    }
   },
   "outputs": [],
   "source": [
    "class SpeakerSet\n",
    "{\n",
    "    public void SetVolume(int percent)\n",
    "        => Console.WriteLine($\"Volume set to {percent}%\");\n",
    "}"
   ]
  },
  {
   "cell_type": "markdown",
   "metadata": {},
   "source": [
    "And here is our setup in all in it's glory!"
   ]
  },
  {
   "cell_type": "code",
   "execution_count": null,
   "metadata": {
    "dotnet_interactive": {
     "language": "csharp"
    }
   },
   "outputs": [],
   "source": [
    "var projector = new Projector();\n",
    "var speakers = new SpeakerSet();\n",
    "var mediaServer = new MediaServer();\n",
    "var screen = new Screen();\n",
    "var popcornMachine = new PopcornMachine();"
   ]
  },
  {
   "cell_type": "markdown",
   "metadata": {},
   "source": [
    "You got all that? Good! Now lets watch a movie..."
   ]
  },
  {
   "cell_type": "code",
   "execution_count": null,
   "metadata": {
    "dotnet_interactive": {
     "language": "csharp"
    }
   },
   "outputs": [
    {
     "name": "stdout",
     "output_type": "stream",
     "text": [
      "Projector on!\n",
      "Volume set to 100%\n",
      "Screen is down!\n",
      "Popcorn is poppin'!\n",
      "Now playing: The Matrix but its actually about matricies\n"
     ]
    }
   ],
   "source": [
    "projector.TurnOn();\n",
    "speakers.SetVolume(100);\n",
    "screen.PullDown();\n",
    "popcornMachine.MakePopcorn();\n",
    "mediaServer.PlayMovie(\"The Matrix but its actually an educational video about matricies\");"
   ]
  },
  {
   "cell_type": "markdown",
   "metadata": {},
   "source": [
    "Wow, that was alot to do! We had to manually call **five** whole methods! How tiring! We will be falling asleep 15 minutes in if we have to go through all that every time we want to watch a movie!\n",
    "\n",
    "Also, we accidentally turned on the projector before pulling down the projector, and there was a window behind where the screen was supposed to be and now all our neighbors are blind and are trying to sue us. Did you really have to get that 15 million watt projector, dude?\n",
    "\n",
    "You see how having to manually call these methods individually can cause so many problems? Well this is a scenario in which the Facade Pattern would come in handy!\n",
    "\n",
    "## How the pattern works\n",
    "\n",
    "The idea of the Facade Pattern is that it abstracts away all these function calls and composes all of them into one neat class in one place. \n",
    "\n",
    "With the Facade Pattern, you would have a class that composes all of our theater equipment into one class:"
   ]
  },
  {
   "cell_type": "code",
   "execution_count": null,
   "metadata": {
    "dotnet_interactive": {
     "language": "csharp"
    }
   },
   "outputs": [],
   "source": [
    "class HomeTheaterFacade\n",
    "{\n",
    "    public Projector Projector { get; set; }\n",
    "    public SpeakerSet Speakers { get; set; }\n",
    "    public Screen Screen { get; set; }\n",
    "    public PopcornMachine PopcornMachine { get; set; }\n",
    "    public MediaServer MediaServer { get; set; }\n",
    "    // Typically you would have a constructor, but i'll just use a class initalization because i'm lazy\n",
    "}"
   ]
  },
  {
   "cell_type": "markdown",
   "metadata": {},
   "source": [
    "Then, you will have methods that abstracts the interactions between this complicated system of objects"
   ]
  },
  {
   "cell_type": "code",
   "execution_count": null,
   "metadata": {
    "dotnet_interactive": {
     "language": "csharp"
    }
   },
   "outputs": [],
   "source": [
    "class HomeTheaterFacade\n",
    "{\n",
    "    public Projector Projector { get; set; }\n",
    "    public SpeakerSet Speakers { get; set; }\n",
    "    public Screen Screen { get; set; }\n",
    "    public PopcornMachine PopcornMachine { get; set; }\n",
    "    public MediaServer MediaServer { get; set; }\n",
    "    public void StartMovie(string movieName)\n",
    "    {\n",
    "        Screen.PullDown();\n",
    "        PopcornMachine.MakePopcorn();\n",
    "        Projector.TurnOn();\n",
    "        MediaServer.PlayMovie(movieName);\n",
    "        Speakers.SetVolume(100);\n",
    "    }\n",
    "    public void StopMovie()\n",
    "    {\n",
    "        Projector.TurnOff();\n",
    "        Screen.PullUp();\n",
    "        MediaServer.Stop();\n",
    "        PopcornMachine.StopMakingPopcorn();\n",
    "        Speakers.SetVolume(0);\n",
    "    }\n",
    "}"
   ]
  },
  {
   "cell_type": "markdown",
   "metadata": {},
   "source": [
    "And now we compose our entire theater into this one facade:"
   ]
  },
  {
   "cell_type": "code",
   "execution_count": null,
   "metadata": {
    "dotnet_interactive": {
     "language": "csharp"
    }
   },
   "outputs": [],
   "source": [
    "var theaterFacade = new HomeTheaterFacade()\n",
    "{\n",
    "    Projector = projector,\n",
    "    Speakers = speakers,\n",
    "    Screen = screen,\n",
    "    MediaServer = mediaServer,\n",
    "    PopcornMachine = popcornMachine\n",
    "};"
   ]
  },
  {
   "cell_type": "markdown",
   "metadata": {},
   "source": [
    "From here, when we want to watch a movie, we would call the facade's `StartMovie()` method:"
   ]
  },
  {
   "cell_type": "code",
   "execution_count": null,
   "metadata": {
    "dotnet_interactive": {
     "language": "csharp"
    }
   },
   "outputs": [
    {
     "name": "stdout",
     "output_type": "stream",
     "text": [
      "Screen is down!\n",
      "Popcorn is poppin'!\n",
      "Projector on!\n",
      "Now playing: Learning About Matricies but its actually just The Matrix\n",
      "Volume set to 100%\n"
     ]
    }
   ],
   "source": [
    "theaterFacade.StartMovie(\"Learning About Matricies but its actually just The Matrix\");"
   ]
  },
  {
   "cell_type": "markdown",
   "metadata": {},
   "source": [
    "### Two hours later...\n",
    "\n",
    "Wow that was a great movie! Lets start packing up."
   ]
  },
  {
   "cell_type": "code",
   "execution_count": null,
   "metadata": {
    "dotnet_interactive": {
     "language": "csharp"
    }
   },
   "outputs": [
    {
     "name": "stdout",
     "output_type": "stream",
     "text": [
      "Projector off!\n",
      "Screen is down!\n",
      "Stopping movie\n",
      "We had enough popcorn!\n",
      "Volume set to 0%\n"
     ]
    }
   ],
   "source": [
    "theaterFacade.StopMovie();"
   ]
  },
  {
   "cell_type": "markdown",
   "metadata": {},
   "source": [
    "Wasn't that easy? By composing our entire home theater into one object, we've effectively reduced our home theater preperation into one method! How convineient!"
   ]
  }
 ],
 "metadata": {
  "kernelspec": {
   "display_name": ".NET (C#)",
   "language": "C#",
   "name": ".net-csharp"
  },
  "language_info": {
   "name": "C#"
  }
 },
 "nbformat": 4,
 "nbformat_minor": 2
}
