{
 "cells": [
  {
   "cell_type": "markdown",
   "metadata": {},
   "source": [
    "# Composition Over Inheritance\n",
    "\n",
    "Lets say we have an abstract class called `Duck` which every duck inherits"
   ]
  },
  {
   "cell_type": "code",
   "execution_count": null,
   "metadata": {
    "dotnet_interactive": {
     "language": "csharp"
    }
   },
   "outputs": [],
   "source": [
    "abstract class Duck\n",
    "{\n",
    "    public virtual void Swim()\n",
    "        => Console.WriteLine(\"Default Swimming...\");\n",
    "    public abstract void Display();\n",
    "}"
   ]
  },
  {
   "cell_type": "markdown",
   "metadata": {},
   "source": [
    "These methods define the behaviors for every `Duck` in the program"
   ]
  },
  {
   "cell_type": "markdown",
   "metadata": {},
   "source": [
    "Here is our `MallardDuck`:"
   ]
  },
  {
   "cell_type": "code",
   "execution_count": null,
   "metadata": {
    "dotnet_interactive": {
     "language": "csharp"
    }
   },
   "outputs": [],
   "source": [
    "class MallardDuck : Duck\n",
    "{\n",
    "    public override void Swim()\n",
    "        => Console.WriteLine(\"Mallard Swimming\");\n",
    "    public override void Display()\n",
    "        => Console.WriteLine(\"I'm a Mallard Duck!\");\n",
    "}"
   ]
  },
  {
   "cell_type": "markdown",
   "metadata": {},
   "source": [
    "And our kind little `RubberDucky`:"
   ]
  },
  {
   "cell_type": "code",
   "execution_count": null,
   "metadata": {
    "dotnet_interactive": {
     "language": "csharp"
    }
   },
   "outputs": [],
   "source": [
    "class RubberDucky : Duck\n",
    "{\n",
    "    public override void Swim()\n",
    "        => Console.WriteLine(\"Floaty float...\");\n",
    "    public override void Display()\n",
    "        => Console.WriteLine(\"I'm a Rubber Ducky!!\");\n",
    "}"
   ]
  },
  {
   "cell_type": "markdown",
   "metadata": {},
   "source": [
    "Lets put them into action!"
   ]
  },
  {
   "cell_type": "code",
   "execution_count": null,
   "metadata": {
    "dotnet_interactive": {
     "language": "csharp"
    }
   },
   "outputs": [
    {
     "name": "stdout",
     "output_type": "stream",
     "text": [
      "I'm a Mallard Duck!\n",
      "Mallard Swimming\n",
      "I'm a Rubber Ducky!!\n",
      "Floaty float...\n"
     ]
    }
   ],
   "source": [
    "var ducks = new Duck[] {\n",
    "    new MallardDuck(),\n",
    "    new RubberDucky()\n",
    "};\n",
    "\n",
    "foreach (var duck in ducks)\n",
    "{\n",
    "    duck.Display();\n",
    "    duck.Swim();\n",
    "}\n"
   ]
  },
  {
   "cell_type": "markdown",
   "metadata": {},
   "source": [
    "\n",
    "Now we need to make some of our ducks fly! Now how are we going to achieve that functionality?\n",
    "\n",
    "## Flying through inheritance\n",
    "\n",
    "Thats sounds like a simple implementation! All we need to do is add a fly method to that abstract `Duck` class!"
   ]
  },
  {
   "cell_type": "code",
   "execution_count": null,
   "metadata": {
    "dotnet_interactive": {
     "language": "csharp"
    }
   },
   "outputs": [],
   "source": [
    "abstract class Duck\n",
    "{\n",
    "    public virtual void Fly()\n",
    "        => Console.WriteLine(\"I'm flying!\");\n",
    "    public virtual void Swim()\n",
    "        => Console.WriteLine(\"Default Swimming...\");\n",
    "    public abstract void Display();\n",
    "}"
   ]
  },
  {
   "cell_type": "markdown",
   "metadata": {},
   "source": [
    "Notice how we don't have to add the Fly method to our ducks!"
   ]
  },
  {
   "cell_type": "code",
   "execution_count": null,
   "metadata": {
    "dotnet_interactive": {
     "language": "csharp"
    }
   },
   "outputs": [],
   "source": [
    "class MallardDuck : Duck\n",
    "{\n",
    "    public override void Swim()\n",
    "        => Console.WriteLine(\"Mallard Swimming\");\n",
    "    public override void Display()\n",
    "        => Console.WriteLine(\"I'm a Mallard Duck!\");\n",
    "}"
   ]
  },
  {
   "cell_type": "code",
   "execution_count": null,
   "metadata": {
    "dotnet_interactive": {
     "language": "csharp"
    }
   },
   "outputs": [],
   "source": [
    "class RubberDucky : Duck\n",
    "{\n",
    "    public override void Swim()\n",
    "        => Console.WriteLine(\"Floaty float...\");\n",
    "    public override void Display()\n",
    "        => Console.WriteLine(\"I'm a Rubber Ducky!!\");\n",
    "}"
   ]
  },
  {
   "cell_type": "markdown",
   "metadata": {},
   "source": [
    "That was simple! With the power of inheritance we easily added the..."
   ]
  },
  {
   "cell_type": "code",
   "execution_count": null,
   "metadata": {
    "dotnet_interactive": {
     "language": "csharp"
    }
   },
   "outputs": [
    {
     "name": "stdout",
     "output_type": "stream",
     "text": [
      "I'm a Mallard Duck!\n",
      "Mallard Swimming\n",
      "I'm flying!\n",
      "I'm a Rubber Ducky!!\n",
      "Floaty float...\n",
      "I'm flying!\n"
     ]
    }
   ],
   "source": [
    "var ducks = new Duck[] {\n",
    "    new MallardDuck(),\n",
    "    new RubberDucky()\n",
    "};\n",
    "\n",
    "foreach (var duck in ducks)\n",
    "{\n",
    "    duck.Display();\n",
    "    duck.Swim();\n",
    "    duck.Fly();\n",
    "}"
   ]
  },
  {
   "cell_type": "markdown",
   "metadata": {},
   "source": [
    "Hold on a second, rubber duckies cant fly!\n",
    "\n",
    "If we are going to add this feature through inheritence, we are going to have to override the method.\n",
    "\n",
    "But if we have a hundred non-flying ducks, like maybe wooden ducks of different shades, we are going to have to refactor a TON of ducks...\n",
    "\n",
    "On the other hand, we could just make the fly method abstract instead, but if we do that we are going to have to copy-paste a ton of code. Its best to have a default flying behavior in our use case, but we will still have to figure out how to deal with those gravity-defying rubber duckies!"
   ]
  },
  {
   "cell_type": "markdown",
   "metadata": {},
   "source": [
    "## Flying through composition\n",
    "\n",
    "What if, instead of each `Duck` inheriting it's behavior, each duck should _have_ it's behavior?\n",
    "\n",
    "How does that make any sense? Well, what if we delegated our flying behavior into another object?"
   ]
  },
  {
   "cell_type": "markdown",
   "metadata": {},
   "source": [
    "First, lets create an interface for this behavior"
   ]
  },
  {
   "cell_type": "code",
   "execution_count": null,
   "metadata": {
    "dotnet_interactive": {
     "language": "csharp"
    }
   },
   "outputs": [],
   "source": [
    "interface IFlyingBehavior\n",
    "{\n",
    "    void PerformFly();\n",
    "}"
   ]
  },
  {
   "cell_type": "markdown",
   "metadata": {},
   "source": [
    "Simple enough, now lets implement some flying behaviors!"
   ]
  },
  {
   "cell_type": "code",
   "execution_count": null,
   "metadata": {
    "dotnet_interactive": {
     "language": "csharp"
    }
   },
   "outputs": [],
   "source": [
    "class NormalFlyingBehavior : IFlyingBehavior\n",
    "{\n",
    "    public void PerformFly()\n",
    "    {\n",
    "        Console.WriteLine(\"I'm flying!\");\n",
    "    }\n",
    "}"
   ]
  },
  {
   "cell_type": "code",
   "execution_count": null,
   "metadata": {
    "dotnet_interactive": {
     "language": "csharp"
    }
   },
   "outputs": [],
   "source": [
    "class NoFlyingBehavior : IFlyingBehavior\n",
    "{\n",
    "    public void PerformFly()\n",
    "    {\n",
    "        Console.WriteLine(\"I can't fly...\");\n",
    "    }\n",
    "}"
   ]
  },
  {
   "cell_type": "markdown",
   "metadata": {},
   "source": [
    "Now to compose it..."
   ]
  },
  {
   "cell_type": "code",
   "execution_count": null,
   "metadata": {
    "dotnet_interactive": {
     "language": "csharp"
    }
   },
   "outputs": [],
   "source": [
    "abstract class Duck\n",
    "{\n",
    "    protected IFlyingBehavior flyingBehavior = new NormalFlyingBehavior();\n",
    "    public Duck()\n",
    "    {\n",
    "    }\n",
    "    public virtual void Fly()\n",
    "        => flyingBehavior.PerformFly();\n",
    "    public virtual void Swim()\n",
    "        => Console.WriteLine(\"Default Swimming...\");\n",
    "    public abstract void Display();\n",
    "}"
   ]
  },
  {
   "cell_type": "code",
   "execution_count": null,
   "metadata": {
    "dotnet_interactive": {
     "language": "csharp"
    }
   },
   "outputs": [],
   "source": [
    "class MallardDuck : Duck\n",
    "{\n",
    "    public override void Swim()\n",
    "        => Console.WriteLine(\"Mallard Swimming\");\n",
    "    public override void Display()\n",
    "        => Console.WriteLine(\"I'm a Mallard Duck!\");\n",
    "}"
   ]
  },
  {
   "cell_type": "code",
   "execution_count": null,
   "metadata": {
    "dotnet_interactive": {
     "language": "csharp"
    }
   },
   "outputs": [],
   "source": [
    "class RubberDucky : Duck\n",
    "{\n",
    "    public RubberDucky() : base()\n",
    "    {\n",
    "        flyingBehavior = new NoFlyingBehavior();\n",
    "    }\n",
    "    public override void Swim()\n",
    "        => Console.WriteLine(\"Floaty float...\");\n",
    "    public override void Display()\n",
    "        => Console.WriteLine(\"I'm a Rubber Ducky!!\");\n",
    "}"
   ]
  },
  {
   "cell_type": "markdown",
   "metadata": {},
   "source": [
    "And lets test it!"
   ]
  },
  {
   "cell_type": "code",
   "execution_count": null,
   "metadata": {
    "dotnet_interactive": {
     "language": "csharp"
    }
   },
   "outputs": [
    {
     "name": "stdout",
     "output_type": "stream",
     "text": [
      "I'm a Mallard Duck!\n",
      "Mallard Swimming\n",
      "I'm flying!\n",
      "I'm a Rubber Ducky!!\n",
      "Floaty float...\n",
      "I can't fly...\n"
     ]
    }
   ],
   "source": [
    "var ducks = new Duck[] {\n",
    "    new MallardDuck(),\n",
    "    new RubberDucky()\n",
    "};\n",
    "\n",
    "foreach (var duck in ducks)\n",
    "{\n",
    "    duck.Display();\n",
    "    duck.Swim();\n",
    "    duck.Fly();\n",
    "}"
   ]
  },
  {
   "cell_type": "markdown",
   "metadata": {},
   "source": [
    "Looks about right!"
   ]
  }
 ],
 "metadata": {
  "kernelspec": {
   "display_name": ".NET (C#)",
   "language": "C#",
   "name": ".net-csharp"
  },
  "language_info": {
   "name": "C#"
  }
 },
 "nbformat": 4,
 "nbformat_minor": 2
}
