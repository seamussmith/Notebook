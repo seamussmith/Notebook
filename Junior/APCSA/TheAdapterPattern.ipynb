{
 "cells": [
  {
   "cell_type": "markdown",
   "metadata": {},
   "source": [
    "# The Adapter Pattern\n",
    "\n",
    "Compare these two classes for a moment:\n",
    "(ignore the fact that the methods are marked virtual)"
   ]
  },
  {
   "cell_type": "code",
   "execution_count": null,
   "metadata": {
    "dotnet_interactive": {
     "language": "csharp"
    }
   },
   "outputs": [],
   "source": [
    "class Turkey\n",
    "{\n",
    "    public virtual void Gobble()\n",
    "        => Console.WriteLine(\"Gobble Gobble\");\n",
    "    public virtual void Fly()\n",
    "        => Console.WriteLine(\"Fly a short distance\");\n",
    "}"
   ]
  },
  {
   "cell_type": "code",
   "execution_count": null,
   "metadata": {
    "dotnet_interactive": {
     "language": "csharp"
    }
   },
   "outputs": [],
   "source": [
    "class Duck\n",
    "{\n",
    "    public virtual void Quack()\n",
    "        => Console.WriteLine(\"Quack!!\");\n",
    "    public virtual void Fly()\n",
    "        => Console.WriteLine(\"Fwoosh!\");\n",
    "}"
   ]
  },
  {
   "cell_type": "code",
   "execution_count": null,
   "metadata": {
    "dotnet_interactive": {
     "language": "csharp"
    }
   },
   "outputs": [],
   "source": [
    "class Duck\n",
    "{\n",
    "    public virtual void Quack()\n",
    "        => Console.WriteLine(\"Quack!!\");\n",
    "    public virtual void Fly()\n",
    "        => Console.WriteLine(\"Fwoosh!\");\n",
    "}"
   ]
  },
  {
   "cell_type": "markdown",
   "metadata": {},
   "source": [
    "These two classes have very similar functionality, except for the fact that the `Turkey` gobbles and the `Duck` quacks. Although they are a little similar, the `Turkey` is sadly unable to be a `Duck` through polymorphism and never be able to live out their dreams of being a `Duck` idol...\n",
    "\n",
    "...or can it?\n",
    "\n",
    "## Making an adapter\n",
    "\n",
    "The solution to letting the `Turkey` live out their `Duck`y dreams is through an adapter class. This is a class that effectively interfaces with an instance of an adaptee to bring similar functionality to the class it is being adapted to.\n",
    "\n",
    "Lets make one of those classes!"
   ]
  },
  {
   "cell_type": "code",
   "execution_count": null,
   "metadata": {
    "dotnet_interactive": {
     "language": "csharp"
    }
   },
   "outputs": [],
   "source": [
    "class TurkeyToDuckAdapter : Duck\n",
    "{\n",
    "    public Turkey TurkeyInstance { get; private set; }\n",
    "    public TurkeyToDuckAdapter(Turkey _turkey)\n",
    "        => (TurkeyInstance) = _turkey;\n",
    "    public override void Quack()\n",
    "        => TurkeyInstance.Gobble();\n",
    "    public override void Fly()\n",
    "        => TurkeyInstance.Fly();\n",
    "}"
   ]
  },
  {
   "cell_type": "markdown",
   "metadata": {},
   "source": [
    "Here, the `TurkeyToDuckAdapter` class inherits `Duck`. It holds an instance to a `Turkey`, and all of the method overrides act like interfaces for the `Turkey` instance.\n",
    "\n",
    "Now our `Turkey`, and all future generations of turkeys can live our their dreams to be a `Duck` idol at the annual Duck idol show!\\\n",
    "(they just have to ignore the weird looks from now on 😢. You `Turkey`s can be `Duck` idols too! Stay strong 😭!)"
   ]
  },
  {
   "cell_type": "code",
   "execution_count": null,
   "metadata": {
    "dotnet_interactive": {
     "language": "csharp"
    }
   },
   "outputs": [
    {
     "name": "stdout",
     "output_type": "stream",
     "text": [
      "Quack!!\n",
      "Gobble Gobble\n",
      "Quack!!\n"
     ]
    }
   ],
   "source": [
    "void duckIdolShow(Duck[] duckIdols)\n",
    "{\n",
    "    foreach (var duck in duckIdols)\n",
    "        duck.Quack();\n",
    "}\n",
    "\n",
    "var ourDuckIdolsThisYear = new[] {\n",
    "    new Duck(),\n",
    "    new TurkeyToDuckAdapter(new Turkey()),\n",
    "    new Duck(),\n",
    "};\n",
    "\n",
    "duckIdolShow(ourDuckIdolsThisYear);"
   ]
  },
  {
   "cell_type": "markdown",
   "metadata": {},
   "source": [
    "Alright, strange Turkey Duck idol dreams aside, how would you use this pattern in the real world?\n",
    "\n",
    "Well, lets say we have a legacy class in a large and complicated code base that would be too difficult or costly to convert to a modern class. If you were to do what we did with our `Turkey` and `Duck` class with that legacy class and modern class, you could probably be able to use that legacy class in your modern code easily with little hassle.\n",
    "\n",
    "A good example of this kind of thing happen is when Java moved from Enumerators to Iterators"
   ]
  }
 ],
 "metadata": {
  "kernelspec": {
   "display_name": ".NET (C#)",
   "language": "C#",
   "name": ".net-csharp"
  },
  "language_info": {
   "name": "C#"
  }
 },
 "nbformat": 4,
 "nbformat_minor": 2
}
